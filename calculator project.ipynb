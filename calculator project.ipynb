{
 "cells": [
  {
   "cell_type": "code",
   "execution_count": 1,
   "id": "ea3e92ee",
   "metadata": {},
   "outputs": [],
   "source": [
    "from tkinter import *\n",
    "\n",
    "exp = \" \"\n",
    "\n",
    "def show(n):\n",
    "    global exp\n",
    "    exp=exp+n\n",
    "    num.set(exp)\n",
    "\n",
    "def calculate():\n",
    "    global exp\n",
    "    result=eval(exp)\n",
    "    num.set(result)\n",
    "    exp = \" \"\n",
    "\n",
    "def allclear():\n",
    "    global exp\n",
    "    exp = \" \"\n",
    "    num.set(\" \")\n",
    "\n",
    "root=Tk()\n",
    "root.title(\"calculator\")\n",
    "#root.geometry(\"200x200\")\n",
    "root.configure(background=\"grey\")\n",
    "\n",
    "num = StringVar()\n",
    "\n",
    "#lbl=Label(root,text=\"welcome to the world of calculations\").grid()\n",
    "txt=Entry(root,textvariable = num,font=('Times New Roman', 10, 'bold')).grid(row=0, column=0,columnspan=8)\n",
    "btn=Button(root,text=\"AC\", fg='white', bg='black',width =9,command = lambda:allclear()).grid(row =1, column =1, columnspan=2)\n",
    "btn=Button(root,text=\"%\", fg='white', bg='black',width =4,command = lambda:show(\"%\")).grid(row =1, column =3)\n",
    "btn=Button(root,text=\"/\", fg='white', bg='black',width =4,command = lambda:show(\"/\")).grid(row =1, column =4)\n",
    "\n",
    "btn=Button(root,text=\"7\", fg='white', bg='black',width =4,command = lambda:show(\"7\")).grid(row =2, column =1)\n",
    "btn=Button(root,text=\"8\", fg='white', bg='black',width =4,command = lambda:show(\"8\")).grid(row =2, column =2)\n",
    "btn=Button(root,text=\"9\", fg='white', bg='black',width =4,command = lambda:show(\"9\")).grid(row =2, column =3)\n",
    "btn=Button(root,text=\"*\", fg='white', bg='black',width =4,command = lambda:show(\"*\")).grid(row =2, column =4)\n",
    "\n",
    "btn=Button(root,text=\"4\", fg='white', bg='black',width =4,command = lambda:show(\"4\")).grid(row =3, column =1)\n",
    "btn=Button(root,text=\"5\", fg='white', bg='black',width =4,command = lambda:show(\"5\")).grid(row =3, column =2)\n",
    "btn=Button(root,text=\"6\", fg='white', bg='black',width =4,command = lambda:show(\"6\")).grid(row =3, column =3)\n",
    "btn=Button(root,text=\"-\", fg='white', bg='black',width =4,command = lambda:show(\"-\")).grid(row =3, column =4)\n",
    "\n",
    "btn=Button(root,text=\"1\", fg='white', bg='black',width =4,command = lambda:show(\"1\")).grid(row =4, column =1)\n",
    "btn=Button(root,text=\"2\", fg='white', bg='black',width =4,command = lambda:show(\"2\")).grid(row =4, column =2)\n",
    "btn=Button(root,text=\"3\", fg='white', bg='black',width =4,command = lambda:show(\"3\")).grid(row =4, column =3)\n",
    "btn=Button(root,text=\"+\", fg='white', bg='black',width =4,command = lambda:show(\"+\")).grid(row =4, column =4)\n",
    "\n",
    "btn=Button(root,text=\"0\", fg='white', bg='black',width =9,command = lambda:show(\"0\")).grid(row =5, column =1, columnspan=2)\n",
    "btn=Button(root,text=\".\", fg='white', bg='black',width =4,command = lambda:show(\".\")).grid(row =5, column =3)\n",
    "btn=Button(root,text=\"=\", fg='white', bg='black',width =4,command = lambda:calculate()).grid(row =5, column =4)\n",
    "\n",
    "root.mainloop()"
   ]
  },
  {
   "cell_type": "code",
   "execution_count": null,
   "id": "e7cfc4b4",
   "metadata": {},
   "outputs": [],
   "source": []
  }
 ],
 "metadata": {
  "kernelspec": {
   "display_name": "Python 3",
   "language": "python",
   "name": "python3"
  },
  "language_info": {
   "codemirror_mode": {
    "name": "ipython",
    "version": 3
   },
   "file_extension": ".py",
   "mimetype": "text/x-python",
   "name": "python",
   "nbconvert_exporter": "python",
   "pygments_lexer": "ipython3",
   "version": "3.8.8"
  }
 },
 "nbformat": 4,
 "nbformat_minor": 5
}
